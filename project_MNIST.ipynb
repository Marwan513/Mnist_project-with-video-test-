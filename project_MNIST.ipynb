{
  "cells": [
    {
      "cell_type": "markdown",
      "metadata": {
        "id": "H-SHOwe8XBKD"
      },
      "source": [
        "# Import The Libraries"
      ]
    },
    {
      "cell_type": "code",
      "execution_count": 1,
      "metadata": {
        "id": "DSEIBKp_XBKG"
      },
      "outputs": [],
      "source": [
        "#import lib\n",
        "import tensorflow as tf\n",
        "import numpy as np\n",
        "from matplotlib import pyplot as plt\n",
        "from tensorflow.keras.models import Sequential\n",
        "from tensorflow.keras.layers import Dense, Conv2D, MaxPooling2D, Dropout, Flatten , Activation"
      ]
    },
    {
      "cell_type": "markdown",
      "metadata": {
        "id": "8M2xhMqWXBKH"
      },
      "source": [
        "# Rearrange the data creating our train and test arrays"
      ]
    },
    {
      "cell_type": "code",
      "execution_count": 2,
      "metadata": {
        "colab": {
          "base_uri": "https://localhost:8080/"
        },
        "id": "vIAUvnJ6XBKI",
        "outputId": "b1dee4fc-b85d-4f40-e591-8f9d9ec594e0"
      },
      "outputs": [
        {
          "data": {
            "text/plain": [
              "<module 'keras.api._v2.keras.datasets.mnist' from 'c:\\\\Users\\\\marwa\\\\AppData\\\\Local\\\\Programs\\\\Python\\\\Python310\\\\lib\\\\site-packages\\\\keras\\\\api\\\\_v2\\\\keras\\\\datasets\\\\mnist\\\\__init__.py'>"
            ]
          },
          "execution_count": 2,
          "metadata": {},
          "output_type": "execute_result"
        }
      ],
      "source": [
        "mnist = tf.keras.datasets.mnist\n",
        "mnist"
      ]
    },
    {
      "cell_type": "code",
      "execution_count": 3,
      "metadata": {
        "id": "DaXXODqfXBKK"
      },
      "outputs": [],
      "source": [
        "#load data\n",
        "(train_images, train_labels), (test_images, test_labels) = mnist.load_data()\n",
        "# train_images=train_images1[:5000,:]\n",
        "# train_labels=train_labels1[:5000]\n",
        "# test_images=test_images1[:500,:]\n",
        "# test_labels=test_labels1[:500]"
      ]
    },
    {
      "cell_type": "code",
      "execution_count": 4,
      "metadata": {
        "id": "UxoLM5TnXBKL"
      },
      "outputs": [],
      "source": [
        "#function to make the labeles as one hot vector\n",
        "def label_reshape(arr_labele):\n",
        "    label_vector=[]\n",
        "    for i in range(len(arr_labele)):\n",
        "        label_vector.append([0 for _ in range(10)])\n",
        "        x = arr_labele[i]\n",
        "        label_vector[i][x] = 1\n",
        "    return label_vector  "
      ]
    },
    {
      "cell_type": "code",
      "execution_count": 5,
      "metadata": {
        "id": "dk3KdqP9XBKL"
      },
      "outputs": [],
      "source": [
        "train_labels = label_reshape(train_labels)\n",
        "test_labels = label_reshape(test_labels)"
      ]
    },
    {
      "cell_type": "code",
      "execution_count": 6,
      "metadata": {
        "colab": {
          "base_uri": "https://localhost:8080/"
        },
        "id": "eBVHPvOxczle",
        "outputId": "e538cb3e-4a3d-4d1e-9c7a-a442faed9cee"
      },
      "outputs": [
        {
          "data": {
            "text/plain": [
              "[0, 0, 1, 0, 0, 0, 0, 0, 0, 0]"
            ]
          },
          "execution_count": 6,
          "metadata": {},
          "output_type": "execute_result"
        }
      ],
      "source": [
        "train_labels[5]"
      ]
    },
    {
      "cell_type": "code",
      "execution_count": 7,
      "metadata": {
        "colab": {
          "base_uri": "https://localhost:8080/"
        },
        "id": "7MjSBqEQXBKM",
        "outputId": "c0cf1804-5872-42f6-be68-8299d48862a1"
      },
      "outputs": [
        {
          "data": {
            "text/plain": [
              "((60000, 28, 28), numpy.ndarray, (10000, 28, 28), numpy.ndarray)"
            ]
          },
          "execution_count": 7,
          "metadata": {},
          "output_type": "execute_result"
        }
      ],
      "source": [
        "#checking the arrays\n",
        "train_images.shape , type(train_images) , test_images.shape , type(test_images)"
      ]
    },
    {
      "cell_type": "markdown",
      "metadata": {
        "id": "ByGnC7mQXBKN"
      },
      "source": [
        "# Plotting numbers"
      ]
    },
    {
      "cell_type": "code",
      "execution_count": 8,
      "metadata": {
        "id": "PsZAV8TKXBKO"
      },
      "outputs": [],
      "source": [
        "#function to plot the number\n",
        "def plot_img(mnist_index):\n",
        "    image = mnist_index\n",
        "    image = np.array(image, dtype='float')\n",
        "    pixels = image.reshape((28, 28))\n",
        "    plt.imshow(pixels, cmap='gray')\n",
        "    plt.show()"
      ]
    },
    {
      "cell_type": "code",
      "execution_count": 9,
      "metadata": {
        "colab": {
          "base_uri": "https://localhost:8080/",
          "height": 282
        },
        "id": "gP5rZxgLXBKP",
        "outputId": "e01fb5c6-5231-4c09-c433-d13cd8de334d"
      },
      "outputs": [
        {
          "data": {
            "image/png": "[encoded data removed]",
            "text/plain": [
              "<Figure size 432x288 with 1 Axes>"
            ]
          },
          "metadata": {
            "needs_background": "light"
          },
          "output_type": "display_data"
        },
        {
          "data": {
            "text/plain": [
              "[1, 0, 0, 0, 0, 0, 0, 0, 0, 0]"
            ]
          },
          "execution_count": 9,
          "metadata": {},
          "output_type": "execute_result"
        }
      ],
      "source": [
        "#test the function\n",
        "plot_img(train_images[1])\n",
        "train_labels[1]"
      ]
    },
    {
      "cell_type": "code",
      "execution_count": 10,
      "metadata": {
        "colab": {
          "base_uri": "https://localhost:8080/",
          "height": 282
        },
        "id": "tmP_oBlcXBKQ",
        "outputId": "d0ecae95-1765-4c62-f821-97e8d4682e63",
        "scrolled": false
      },
      "outputs": [
        {
          "data": {
            "image/png": "[encoded data removed]",
            "text/plain": [
              "<Figure size 432x288 with 1 Axes>"
            ]
          },
          "metadata": {
            "needs_background": "light"
          },
          "output_type": "display_data"
        },
        {
          "data": {
            "text/plain": [
              "[0, 0, 0, 0, 0, 0, 0, 1, 0, 0]"
            ]
          },
          "execution_count": 10,
          "metadata": {},
          "output_type": "execute_result"
        }
      ],
      "source": [
        "#test function\n",
        "plot_img(test_images[0])\n",
        "test_labels[0]"
      ]
    },
    {
      "cell_type": "markdown",
      "metadata": {
        "id": "UJEhYKe_RByZ"
      },
      "source": [
        "#Normalize the Data and Resahpe the img"
      ]
    },
    {
      "cell_type": "code",
      "execution_count": 11,
      "metadata": {
        "id": "BO_uM8PdRF0R"
      },
      "outputs": [],
      "source": [
        "train_images = tf.keras.utils.normalize(train_images,axis = 1)\n",
        "test_images = tf.keras.utils.normalize(test_images,axis = 1)"
      ]
    },
    {
      "cell_type": "markdown",
      "metadata": {
        "id": "qAYaYYcaXQ51"
      },
      "source": [
        "#Resahpe the images to make it suitable"
      ]
    },
    {
      "cell_type": "code",
      "execution_count": 12,
      "metadata": {
        "id": "TFnW6sy-Xbas"
      },
      "outputs": [],
      "source": [
        "#function to reshape\n",
        "def reshape_img(img):\n",
        "  img_size = img.shape[1]\n",
        "  img = img.reshape(-1,img_size,img_size,1)\n",
        "  return img"
      ]
    },
    {
      "cell_type": "code",
      "execution_count": 13,
      "metadata": {
        "colab": {
          "base_uri": "https://localhost:8080/"
        },
        "id": "piZyG-ECX6Ms",
        "outputId": "cf63f0ce-e196-4108-cd33-1ee4cd5969a2"
      },
      "outputs": [
        {
          "name": "stdout",
          "output_type": "stream",
          "text": [
            "(60000, 28, 28, 1) (10000, 28, 28, 1)\n"
          ]
        }
      ],
      "source": [
        "#increase 1 dim for filter operation\n",
        "train_images = reshape_img(np.array(train_images))\n",
        "test_images = reshape_img(np.array(test_images))\n",
        "\n",
        "print(train_images.shape,test_images.shape)\n",
        "\n",
        "train_images = np.array(train_images)\n",
        "train_labels = np.array(train_labels)\n",
        "test_images = np.array(test_images)\n",
        "test_labels = np.array(test_labels)"
      ]
    },
    {
      "cell_type": "markdown",
      "metadata": {
        "id": "7czscd3caUd8"
      },
      "source": [
        "# **Creat our CNN**\n",
        "\n",
        "\n"
      ]
    },
    {
      "cell_type": "code",
      "execution_count": 14,
      "metadata": {
        "colab": {
          "base_uri": "https://localhost:8080/"
        },
        "id": "ZUICIXyb4BKq",
        "outputId": "80ec3240-980b-4e96-fe2c-1dbc5d5aab5c"
      },
      "outputs": [
        {
          "name": "stdout",
          "output_type": "stream",
          "text": [
            "Model: \"sequential\"\n",
            "_________________________________________________________________\n",
            " Layer (type)                Output Shape              Param #   \n",
            "=================================================================\n",
            " conv2d (Conv2D)             (None, 27, 27, 16)        80        \n",
            "                                                                 \n",
            " activation (Activation)     (None, 27, 27, 16)        0         \n",
            "                                                                 \n",
            " conv2d_1 (Conv2D)           (None, 26, 26, 32)        2080      \n",
            "                                                                 \n",
            " activation_1 (Activation)   (None, 26, 26, 32)        0         \n",
            "                                                                 \n",
            " max_pooling2d (MaxPooling2D  (None, 13, 13, 32)       0         \n",
            " )                                                               \n",
            "                                                                 \n",
            " conv2d_2 (Conv2D)           (None, 12, 12, 64)        8256      \n",
            "                                                                 \n",
            " activation_2 (Activation)   (None, 12, 12, 64)        0         \n",
            "                                                                 \n",
            " max_pooling2d_1 (MaxPooling  (None, 6, 6, 64)         0         \n",
            " 2D)                                                             \n",
            "                                                                 \n",
            " flatten (Flatten)           (None, 2304)              0         \n",
            "                                                                 \n",
            " dense (Dense)               (None, 64)                147520    \n",
            "                                                                 \n",
            " activation_3 (Activation)   (None, 64)                0         \n",
            "                                                                 \n",
            " dense_1 (Dense)             (None, 32)                2080      \n",
            "                                                                 \n",
            " activation_4 (Activation)   (None, 32)                0         \n",
            "                                                                 \n",
            " dropout (Dropout)           (None, 32)                0         \n",
            "                                                                 \n",
            " dense_2 (Dense)             (None, 10)                330       \n",
            "                                                                 \n",
            " activation_5 (Activation)   (None, 10)                0         \n",
            "                                                                 \n",
            "=================================================================\n",
            "Total params: 160,346\n",
            "Trainable params: 160,346\n",
            "Non-trainable params: 0\n",
            "_________________________________________________________________\n"
          ]
        }
      ],
      "source": [
        "#creat the model\n",
        "model = Sequential()\n",
        "\n",
        "#conv layers\n",
        "\n",
        "##first CNN layer\n",
        "model.add(Conv2D(16,(2,2),input_shape = train_images.shape[1:]))\n",
        "model.add(Activation(\"tanh\"))\n",
        "\n",
        "##second CNN layer\n",
        "model.add(Conv2D(32,(2,2)))\n",
        "model.add(Activation(\"tanh\"))\n",
        "model.add(MaxPooling2D(pool_size=(2, 2)))\n",
        "\n",
        "##third CNN layer\n",
        "model.add(Conv2D(64,(2,2)))\n",
        "model.add(Activation(\"tanh\"))\n",
        "model.add(MaxPooling2D(pool_size=(2, 2)))\n",
        "\n",
        "model.add(Flatten())\n",
        "\n",
        "#FC layers\n",
        "\n",
        "##first FC layer\n",
        "model.add(Dense(64))\n",
        "model.add(Activation(\"tanh\"))\n",
        "\n",
        "##second FC layer\n",
        "model.add(Dense(32))\n",
        "model.add(Activation(\"tanh\"))\n",
        "model.add(Dropout(0.25))\n",
        "\n",
        "# softmax classifier\n",
        "model.add(Dense(10))\n",
        "model.add(Activation(\"softmax\"))\n",
        "\n",
        "model.summary()"
      ]
    },
    {
      "cell_type": "code",
      "execution_count": 15,
      "metadata": {
        "colab": {
          "base_uri": "https://localhost:8080/"
        },
        "id": "L-AJKDYX4BKq",
        "outputId": "239ff3ab-6bcc-4e53-ee86-0f5676818a72"
      },
      "outputs": [
        {
          "name": "stdout",
          "output_type": "stream",
          "text": [
            "Epoch 1/15\n",
            "3000/3000 [==============================] - 35s 11ms/step - loss: 0.3397 - accuracy: 0.9042\n",
            "Epoch 2/15\n",
            "3000/3000 [==============================] - 34s 11ms/step - loss: 0.1119 - accuracy: 0.9678\n",
            "Epoch 3/15\n",
            "3000/3000 [==============================] - 32s 11ms/step - loss: 0.0754 - accuracy: 0.9785\n",
            "Epoch 4/15\n",
            "3000/3000 [==============================] - 34s 11ms/step - loss: 0.0575 - accuracy: 0.9834\n",
            "Epoch 5/15\n",
            "3000/3000 [==============================] - 35s 12ms/step - loss: 0.0476 - accuracy: 0.9864\n",
            "Epoch 6/15\n",
            "3000/3000 [==============================] - 34s 11ms/step - loss: 0.0383 - accuracy: 0.9893\n",
            "Epoch 7/15\n",
            "3000/3000 [==============================] - 32s 11ms/step - loss: 0.0318 - accuracy: 0.9909\n",
            "Epoch 8/15\n",
            "3000/3000 [==============================] - 32s 11ms/step - loss: 0.0269 - accuracy: 0.9921\n",
            "Epoch 9/15\n",
            "3000/3000 [==============================] - 34s 11ms/step - loss: 0.0223 - accuracy: 0.9935\n",
            "Epoch 10/15\n",
            "3000/3000 [==============================] - 34s 11ms/step - loss: 0.0198 - accuracy: 0.9942\n",
            "Epoch 11/15\n",
            "3000/3000 [==============================] - 33s 11ms/step - loss: 0.0164 - accuracy: 0.9954\n",
            "Epoch 12/15\n",
            "3000/3000 [==============================] - 34s 11ms/step - loss: 0.0131 - accuracy: 0.9965\n",
            "Epoch 13/15\n",
            "3000/3000 [==============================] - 33s 11ms/step - loss: 0.0117 - accuracy: 0.9970\n",
            "Epoch 14/15\n",
            "3000/3000 [==============================] - 33s 11ms/step - loss: 0.0093 - accuracy: 0.9977\n",
            "Epoch 15/15\n",
            "3000/3000 [==============================] - 33s 11ms/step - loss: 0.0085 - accuracy: 0.9977\n"
          ]
        }
      ],
      "source": [
        "#fiting data\n",
        "model.compile(optimizer=tf.keras.optimizers.SGD(learning_rate=0.03), loss=\"categorical_crossentropy\", metrics=['accuracy'])\n",
        "history = model.fit(train_images,train_labels,epochs=15,batch_size=20)"
      ]
    },
    {
      "cell_type": "code",
      "execution_count": 16,
      "metadata": {
        "colab": {
          "base_uri": "https://localhost:8080/"
        },
        "id": "R3N57E_f4BKq",
        "outputId": "cc90289d-28d4-4f9d-a01d-17e3d364a18d"
      },
      "outputs": [
        {
          "name": "stdout",
          "output_type": "stream",
          "text": [
            "313/313 [==============================] - 2s 6ms/step - loss: 0.0356 - accuracy: 0.9890\n",
            "loss = 0.035645466297864914\n",
            "accuracy = 0.9890000224113464\n"
          ]
        }
      ],
      "source": [
        "#testing the model\n",
        "loss, acc =model.evaluate(test_images , test_labels)\n",
        "print(\"loss =\",loss)\n",
        "print(\"accuracy =\",acc)"
      ]
    },
    {
      "cell_type": "code",
      "execution_count": 17,
      "metadata": {
        "colab": {
          "base_uri": "https://localhost:8080/",
          "height": 295
        },
        "id": "DhZXLqki4BKq",
        "outputId": "03d62613-d2ab-432b-ed2c-7d61203d786d"
      },
      "outputs": [
        {
          "data": {
            "image/png": "[encoded data removed]",
            "text/plain": [
              "<Figure size 432x288 with 1 Axes>"
            ]
          },
          "metadata": {
            "needs_background": "light"
          },
          "output_type": "display_data"
        }
      ],
      "source": [
        "def plot_losses(history):  \n",
        "    plt.plot(history.history['loss'])\n",
        "    plt.title('model loss')\n",
        "    plt.ylabel('loss')\n",
        "    plt.xlabel('epoch')\n",
        "    plt.legend(['train'], loc='upper left')\n",
        "    plt.show()\n",
        "plot_losses(history)"
      ]
    },
    {
      "cell_type": "code",
      "execution_count": 18,
      "metadata": {
        "colab": {
          "base_uri": "https://localhost:8080/",
          "height": 295
        },
        "id": "urpAOOFd4BKr",
        "outputId": "d413c8a9-b554-4df6-aab6-aff8fce1a71f"
      },
      "outputs": [
        {
          "data": {
            "image/png": "[encoded data removed]",
            "text/plain": [
              "<Figure size 432x288 with 1 Axes>"
            ]
          },
          "metadata": {
            "needs_background": "light"
          },
          "output_type": "display_data"
        }
      ],
      "source": [
        "def plot_accuracies(history):  \n",
        "    plt.plot(history.history['accuracy'], label='accuracy')\n",
        "    plt.title('model accuracy')\n",
        "    plt.xlabel('Epoch')\n",
        "    plt.ylabel('Accuracy')\n",
        "    plt.legend(loc='upper left')\n",
        "    plt.show()\n",
        "plot_accuracies(history)"
      ]
    },
    {
      "cell_type": "markdown",
      "metadata": {
        "id": "ZztjCydTGLMc"
      },
      "source": [
        "#Test model by draw of number we make it"
      ]
    },
    {
      "cell_type": "code",
      "execution_count": 19,
      "metadata": {
        "id": "t0KHg4IlGVo3"
      },
      "outputs": [],
      "source": [
        "import cv2 "
      ]
    },
    {
      "cell_type": "code",
      "execution_count": 20,
      "metadata": {
        "id": "00l5F7n1HeKW"
      },
      "outputs": [],
      "source": [
        "test_img = cv2.imread('5.png')"
      ]
    },
    {
      "cell_type": "code",
      "execution_count": 21,
      "metadata": {
        "colab": {
          "base_uri": "https://localhost:8080/",
          "height": 286
        },
        "id": "gPakWDzLH1OG",
        "outputId": "62a160b1-f07e-4eb5-a9e1-36a55ddc386d"
      },
      "outputs": [
        {
          "data": {
            "text/plain": [
              "(405, 362, 3)"
            ]
          },
          "execution_count": 21,
          "metadata": {},
          "output_type": "execute_result"
        },
        {
          "data": {
            "image/png": "[encoded data removed]",
            "text/plain": [
              "<Figure size 432x288 with 1 Axes>"
            ]
          },
          "metadata": {
            "needs_background": "light"
          },
          "output_type": "display_data"
        }
      ],
      "source": [
        "plt.imshow(test_img)\n",
        "test_img.shape"
      ]
    },
    {
      "cell_type": "code",
      "execution_count": 22,
      "metadata": {
        "colab": {
          "base_uri": "https://localhost:8080/"
        },
        "id": "PibLaGmVIRQX",
        "outputId": "5bb4b73f-f43b-4f3f-ab24-c5c9a2de4696"
      },
      "outputs": [
        {
          "data": {
            "text/plain": [
              "(405, 362)"
            ]
          },
          "execution_count": 22,
          "metadata": {},
          "output_type": "execute_result"
        }
      ],
      "source": [
        "test_img = cv2.cvtColor(test_img, cv2.COLOR_BGR2GRAY)\n",
        "test_img.shape"
      ]
    },
    {
      "cell_type": "code",
      "execution_count": 23,
      "metadata": {
        "colab": {
          "base_uri": "https://localhost:8080/"
        },
        "id": "F5CY8N7EJOp0",
        "outputId": "45e0ed81-75a6-4785-a5d9-c92057b03b14"
      },
      "outputs": [
        {
          "data": {
            "text/plain": [
              "(28, 28)"
            ]
          },
          "execution_count": 23,
          "metadata": {},
          "output_type": "execute_result"
        }
      ],
      "source": [
        "#reshaping the photo\n",
        "test_img = cv2.resize(test_img, (28,28), interpolation = cv2.INTER_AREA )\n",
        "test_img.shape"
      ]
    },
    {
      "cell_type": "code",
      "execution_count": 24,
      "metadata": {
        "colab": {
          "base_uri": "https://localhost:8080/",
          "height": 265
        },
        "id": "9NTZed_pKqEm",
        "outputId": "93e82df1-305b-476d-cb41-a3d148c040d4"
      },
      "outputs": [
        {
          "data": {
            "image/png": "[encoded data removed]",
            "text/plain": [
              "<Figure size 432x288 with 1 Axes>"
            ]
          },
          "metadata": {
            "needs_background": "light"
          },
          "output_type": "display_data"
        }
      ],
      "source": [
        "#plot after reshaping\n",
        "test_img = tf.keras.utils.normalize(test_img,axis = 1)\n",
        "plot_img(test_img)"
      ]
    },
    {
      "cell_type": "code",
      "execution_count": 25,
      "metadata": {
        "colab": {
          "base_uri": "https://localhost:8080/"
        },
        "id": "2qwVCs0ALErJ",
        "outputId": "46afdd40-af19-4564-e595-7937208f9d16"
      },
      "outputs": [
        {
          "data": {
            "text/plain": [
              "(1, 28, 28, 1)"
            ]
          },
          "execution_count": 25,
          "metadata": {},
          "output_type": "execute_result"
        }
      ],
      "source": [
        "test_img = reshape_img(np.array(test_img))\n",
        "test_img.shape"
      ]
    },
    {
      "cell_type": "code",
      "execution_count": 26,
      "metadata": {
        "colab": {
          "base_uri": "https://localhost:8080/"
        },
        "id": "vEnTS7kaLfkf",
        "outputId": "649fb59b-74b6-4135-b94b-db3195bed5b2"
      },
      "outputs": [
        {
          "name": "stdout",
          "output_type": "stream",
          "text": [
            "5\n"
          ]
        }
      ],
      "source": [
        "#predict the photo\n",
        "p = model.predict(test_img)\n",
        "print(np.argmax(p))"
      ]
    },
    {
      "cell_type": "markdown",
      "metadata": {
        "id": "MhIfGfqOIK6L"
      },
      "source": [
        "#**Predict video we made it**"
      ]
    },
    {
      "cell_type": "code",
      "execution_count": 27,
      "metadata": {
        "id": "p8pI4bfoIw_P"
      },
      "outputs": [],
      "source": [
        "font_scale = 1.5\n",
        "font = cv2.FONT_HERSHEY_PLAIN"
      ]
    },
    {
      "cell_type": "code",
      "execution_count": 28,
      "metadata": {
        "id": "-qS1zeQMJM2g",
        "outputId": "7b019c36-1299-4973-c78e-dc0cd932e93f"
      },
      "outputs": [
        {
          "name": "stdout",
          "output_type": "stream",
          "text": [
            "879\n"
          ]
        }
      ],
      "source": [
        "#load the video\n",
        "cap = cv2.VideoCapture('123456789.mp4')\n",
        "if not cap.isOpened():\n",
        "  cap = cv2.VideoCapture(0)\n",
        "if not cap.isOpened():\n",
        "  raise IOError(' Cannot open the video :( ')\n",
        "#print the number of video frames\n",
        "length = int(cap.get(cv2.CAP_PROP_FRAME_COUNT))\n",
        "print(length)"
      ]
    },
    {
      "cell_type": "code",
      "execution_count": 29,
      "metadata": {
        "id": "MJ2Wn9CANnZw"
      },
      "outputs": [],
      "source": [
        "#Prepare text box\n",
        "text = \"TEXT\"\n",
        "(text_width,text_height) = cv2.getTextSize(text,font,font_scale,1)[0]\n",
        "text_offset_x = 10\n",
        "text_offset_y = 10\n",
        "box_coords = ((text_offset_x, text_offset_y), (text_offset_x + text_width + 2,text_offset_y - text_height - 2))\n",
        "cntr = 0"
      ]
    },
    {
      "cell_type": "code",
      "execution_count": 30,
      "metadata": {
        "colab": {
          "base_uri": "https://localhost:8080/",
          "height": 443
        },
        "id": "cjIbuN7CQBnJ",
        "outputId": "195ce95b-0a47-481f-c540-6c0d63e76d44"
      },
      "outputs": [
        {
          "name": "stdout",
          "output_type": "stream",
          "text": [
            "1\n",
            "<class 'numpy.int64'>\n",
            "1\n",
            "<class 'numpy.int64'>\n",
            "1\n",
            "<class 'numpy.int64'>\n",
            "1\n",
            "<class 'numpy.int64'>\n",
            "1\n",
            "<class 'numpy.int64'>\n",
            "1\n",
            "<class 'numpy.int64'>\n",
            "1\n",
            "<class 'numpy.int64'>\n",
            "1\n",
            "<class 'numpy.int64'>\n",
            "7\n",
            "<class 'numpy.int64'>\n",
            "7\n",
            "<class 'numpy.int64'>\n",
            "7\n",
            "<class 'numpy.int64'>\n",
            "1\n",
            "<class 'numpy.int64'>\n",
            "1\n",
            "<class 'numpy.int64'>\n",
            "1\n",
            "<class 'numpy.int64'>\n",
            "1\n",
            "<class 'numpy.int64'>\n",
            "1\n",
            "<class 'numpy.int64'>\n",
            "1\n",
            "<class 'numpy.int64'>\n",
            "1\n",
            "<class 'numpy.int64'>\n",
            "1\n",
            "<class 'numpy.int64'>\n",
            "1\n",
            "<class 'numpy.int64'>\n",
            "1\n",
            "<class 'numpy.int64'>\n",
            "1\n",
            "<class 'numpy.int64'>\n",
            "1\n",
            "<class 'numpy.int64'>\n",
            "1\n",
            "<class 'numpy.int64'>\n",
            "1\n",
            "<class 'numpy.int64'>\n",
            "1\n",
            "<class 'numpy.int64'>\n",
            "1\n",
            "<class 'numpy.int64'>\n",
            "1\n",
            "<class 'numpy.int64'>\n",
            "9\n",
            "<class 'numpy.int64'>\n",
            "9\n",
            "<class 'numpy.int64'>\n",
            "1\n",
            "<class 'numpy.int64'>\n",
            "1\n",
            "<class 'numpy.int64'>\n",
            "1\n",
            "<class 'numpy.int64'>\n",
            "1\n",
            "<class 'numpy.int64'>\n",
            "1\n",
            "<class 'numpy.int64'>\n",
            "1\n",
            "<class 'numpy.int64'>\n",
            "1\n",
            "<class 'numpy.int64'>\n",
            "1\n",
            "<class 'numpy.int64'>\n",
            "1\n",
            "<class 'numpy.int64'>\n",
            "1\n",
            "<class 'numpy.int64'>\n",
            "1\n",
            "<class 'numpy.int64'>\n",
            "1\n",
            "<class 'numpy.int64'>\n",
            "1\n",
            "<class 'numpy.int64'>\n",
            "1\n",
            "<class 'numpy.int64'>\n",
            "1\n",
            "<class 'numpy.int64'>\n",
            "1\n",
            "<class 'numpy.int64'>\n",
            "1\n",
            "<class 'numpy.int64'>\n",
            "1\n",
            "<class 'numpy.int64'>\n",
            "1\n",
            "<class 'numpy.int64'>\n",
            "1\n",
            "<class 'numpy.int64'>\n",
            "1\n",
            "<class 'numpy.int64'>\n",
            "1\n",
            "<class 'numpy.int64'>\n",
            "1\n",
            "<class 'numpy.int64'>\n",
            "1\n",
            "<class 'numpy.int64'>\n",
            "1\n",
            "<class 'numpy.int64'>\n",
            "1\n",
            "<class 'numpy.int64'>\n",
            "1\n",
            "<class 'numpy.int64'>\n",
            "1\n",
            "<class 'numpy.int64'>\n",
            "1\n",
            "<class 'numpy.int64'>\n",
            "1\n",
            "<class 'numpy.int64'>\n",
            "1\n",
            "<class 'numpy.int64'>\n",
            "1\n",
            "<class 'numpy.int64'>\n",
            "1\n",
            "<class 'numpy.int64'>\n",
            "1\n",
            "<class 'numpy.int64'>\n",
            "1\n",
            "<class 'numpy.int64'>\n",
            "1\n",
            "<class 'numpy.int64'>\n",
            "1\n",
            "<class 'numpy.int64'>\n",
            "1\n",
            "<class 'numpy.int64'>\n",
            "1\n",
            "<class 'numpy.int64'>\n",
            "1\n",
            "<class 'numpy.int64'>\n",
            "1\n",
            "<class 'numpy.int64'>\n",
            "1\n",
            "<class 'numpy.int64'>\n",
            "1\n",
            "<class 'numpy.int64'>\n",
            "1\n",
            "<class 'numpy.int64'>\n",
            "2\n",
            "<class 'numpy.int64'>\n",
            "2\n",
            "<class 'numpy.int64'>\n",
            "2\n",
            "<class 'numpy.int64'>\n",
            "2\n",
            "<class 'numpy.int64'>\n",
            "2\n",
            "<class 'numpy.int64'>\n",
            "2\n",
            "<class 'numpy.int64'>\n",
            "2\n",
            "<class 'numpy.int64'>\n",
            "2\n",
            "<class 'numpy.int64'>\n",
            "2\n",
            "<class 'numpy.int64'>\n",
            "2\n",
            "<class 'numpy.int64'>\n",
            "2\n",
            "<class 'numpy.int64'>\n",
            "2\n",
            "<class 'numpy.int64'>\n",
            "2\n",
            "<class 'numpy.int64'>\n",
            "2\n",
            "<class 'numpy.int64'>\n",
            "2\n",
            "<class 'numpy.int64'>\n",
            "2\n",
            "<class 'numpy.int64'>\n",
            "2\n",
            "<class 'numpy.int64'>\n",
            "2\n",
            "<class 'numpy.int64'>\n",
            "2\n",
            "<class 'numpy.int64'>\n",
            "2\n",
            "<class 'numpy.int64'>\n",
            "2\n",
            "<class 'numpy.int64'>\n",
            "2\n",
            "<class 'numpy.int64'>\n",
            "1\n",
            "<class 'numpy.int64'>\n",
            "1\n",
            "<class 'numpy.int64'>\n",
            "1\n",
            "<class 'numpy.int64'>\n",
            "1\n",
            "<class 'numpy.int64'>\n",
            "1\n",
            "<class 'numpy.int64'>\n",
            "1\n",
            "<class 'numpy.int64'>\n",
            "1\n",
            "<class 'numpy.int64'>\n",
            "1\n",
            "<class 'numpy.int64'>\n",
            "1\n",
            "<class 'numpy.int64'>\n",
            "1\n",
            "<class 'numpy.int64'>\n",
            "1\n",
            "<class 'numpy.int64'>\n",
            "1\n",
            "<class 'numpy.int64'>\n",
            "1\n",
            "<class 'numpy.int64'>\n",
            "7\n",
            "<class 'numpy.int64'>\n",
            "7\n",
            "<class 'numpy.int64'>\n",
            "7\n",
            "<class 'numpy.int64'>\n",
            "7\n",
            "<class 'numpy.int64'>\n",
            "7\n",
            "<class 'numpy.int64'>\n",
            "3\n",
            "<class 'numpy.int64'>\n",
            "3\n",
            "<class 'numpy.int64'>\n",
            "3\n",
            "<class 'numpy.int64'>\n",
            "3\n",
            "<class 'numpy.int64'>\n",
            "3\n",
            "<class 'numpy.int64'>\n",
            "3\n",
            "<class 'numpy.int64'>\n",
            "3\n",
            "<class 'numpy.int64'>\n",
            "3\n",
            "<class 'numpy.int64'>\n",
            "3\n",
            "<class 'numpy.int64'>\n",
            "3\n",
            "<class 'numpy.int64'>\n",
            "3\n",
            "<class 'numpy.int64'>\n",
            "3\n",
            "<class 'numpy.int64'>\n",
            "3\n",
            "<class 'numpy.int64'>\n",
            "3\n",
            "<class 'numpy.int64'>\n",
            "3\n",
            "<class 'numpy.int64'>\n",
            "3\n",
            "<class 'numpy.int64'>\n",
            "3\n",
            "<class 'numpy.int64'>\n",
            "3\n",
            "<class 'numpy.int64'>\n",
            "3\n",
            "<class 'numpy.int64'>\n",
            "3\n",
            "<class 'numpy.int64'>\n",
            "3\n",
            "<class 'numpy.int64'>\n",
            "3\n",
            "<class 'numpy.int64'>\n",
            "3\n",
            "<class 'numpy.int64'>\n",
            "3\n",
            "<class 'numpy.int64'>\n",
            "3\n",
            "<class 'numpy.int64'>\n",
            "1\n",
            "<class 'numpy.int64'>\n",
            "1\n",
            "<class 'numpy.int64'>\n",
            "1\n",
            "<class 'numpy.int64'>\n",
            "1\n",
            "<class 'numpy.int64'>\n",
            "1\n",
            "<class 'numpy.int64'>\n",
            "1\n",
            "<class 'numpy.int64'>\n",
            "1\n",
            "<class 'numpy.int64'>\n",
            "1\n",
            "<class 'numpy.int64'>\n",
            "1\n",
            "<class 'numpy.int64'>\n",
            "1\n",
            "<class 'numpy.int64'>\n",
            "1\n",
            "<class 'numpy.int64'>\n",
            "1\n",
            "<class 'numpy.int64'>\n",
            "1\n",
            "<class 'numpy.int64'>\n",
            "1\n",
            "<class 'numpy.int64'>\n",
            "1\n",
            "<class 'numpy.int64'>\n",
            "1\n",
            "<class 'numpy.int64'>\n",
            "1\n",
            "<class 'numpy.int64'>\n",
            "1\n",
            "<class 'numpy.int64'>\n",
            "7\n",
            "<class 'numpy.int64'>\n",
            "7\n",
            "<class 'numpy.int64'>\n",
            "7\n",
            "<class 'numpy.int64'>\n",
            "7\n",
            "<class 'numpy.int64'>\n",
            "7\n",
            "<class 'numpy.int64'>\n",
            "7\n",
            "<class 'numpy.int64'>\n",
            "7\n",
            "<class 'numpy.int64'>\n",
            "7\n",
            "<class 'numpy.int64'>\n",
            "7\n",
            "<class 'numpy.int64'>\n",
            "7\n",
            "<class 'numpy.int64'>\n",
            "7\n",
            "<class 'numpy.int64'>\n",
            "7\n",
            "<class 'numpy.int64'>\n",
            "7\n",
            "<class 'numpy.int64'>\n",
            "7\n",
            "<class 'numpy.int64'>\n",
            "7\n",
            "<class 'numpy.int64'>\n",
            "7\n",
            "<class 'numpy.int64'>\n",
            "7\n",
            "<class 'numpy.int64'>\n",
            "7\n",
            "<class 'numpy.int64'>\n",
            "4\n",
            "<class 'numpy.int64'>\n",
            "4\n",
            "<class 'numpy.int64'>\n",
            "4\n",
            "<class 'numpy.int64'>\n",
            "4\n",
            "<class 'numpy.int64'>\n",
            "4\n",
            "<class 'numpy.int64'>\n",
            "4\n",
            "<class 'numpy.int64'>\n",
            "4\n",
            "<class 'numpy.int64'>\n",
            "4\n",
            "<class 'numpy.int64'>\n",
            "4\n",
            "<class 'numpy.int64'>\n",
            "4\n",
            "<class 'numpy.int64'>\n",
            "4\n",
            "<class 'numpy.int64'>\n",
            "4\n",
            "<class 'numpy.int64'>\n",
            "4\n",
            "<class 'numpy.int64'>\n",
            "4\n",
            "<class 'numpy.int64'>\n",
            "4\n",
            "<class 'numpy.int64'>\n",
            "4\n",
            "<class 'numpy.int64'>\n",
            "7\n",
            "<class 'numpy.int64'>\n",
            "7\n",
            "<class 'numpy.int64'>\n",
            "7\n",
            "<class 'numpy.int64'>\n",
            "7\n",
            "<class 'numpy.int64'>\n",
            "7\n",
            "<class 'numpy.int64'>\n",
            "7\n",
            "<class 'numpy.int64'>\n",
            "7\n",
            "<class 'numpy.int64'>\n",
            "7\n",
            "<class 'numpy.int64'>\n",
            "1\n",
            "<class 'numpy.int64'>\n",
            "1\n",
            "<class 'numpy.int64'>\n",
            "1\n",
            "<class 'numpy.int64'>\n",
            "1\n",
            "<class 'numpy.int64'>\n",
            "1\n",
            "<class 'numpy.int64'>\n",
            "1\n",
            "<class 'numpy.int64'>\n",
            "1\n",
            "<class 'numpy.int64'>\n",
            "1\n",
            "<class 'numpy.int64'>\n",
            "1\n",
            "<class 'numpy.int64'>\n",
            "5\n",
            "<class 'numpy.int64'>\n",
            "5\n",
            "<class 'numpy.int64'>\n",
            "5\n",
            "<class 'numpy.int64'>\n",
            "5\n",
            "<class 'numpy.int64'>\n",
            "7\n",
            "<class 'numpy.int64'>\n",
            "7\n",
            "<class 'numpy.int64'>\n",
            "7\n",
            "<class 'numpy.int64'>\n",
            "7\n",
            "<class 'numpy.int64'>\n",
            "7\n",
            "<class 'numpy.int64'>\n",
            "7\n",
            "<class 'numpy.int64'>\n",
            "7\n",
            "<class 'numpy.int64'>\n",
            "7\n",
            "<class 'numpy.int64'>\n",
            "7\n",
            "<class 'numpy.int64'>\n",
            "5\n",
            "<class 'numpy.int64'>\n",
            "5\n",
            "<class 'numpy.int64'>\n",
            "5\n",
            "<class 'numpy.int64'>\n",
            "5\n",
            "<class 'numpy.int64'>\n",
            "5\n",
            "<class 'numpy.int64'>\n",
            "5\n",
            "<class 'numpy.int64'>\n",
            "5\n",
            "<class 'numpy.int64'>\n",
            "5\n",
            "<class 'numpy.int64'>\n",
            "5\n",
            "<class 'numpy.int64'>\n",
            "5\n",
            "<class 'numpy.int64'>\n",
            "5\n",
            "<class 'numpy.int64'>\n",
            "5\n",
            "<class 'numpy.int64'>\n",
            "5\n",
            "<class 'numpy.int64'>\n",
            "5\n",
            "<class 'numpy.int64'>\n",
            "5\n",
            "<class 'numpy.int64'>\n",
            "5\n",
            "<class 'numpy.int64'>\n",
            "5\n",
            "<class 'numpy.int64'>\n",
            "5\n",
            "<class 'numpy.int64'>\n",
            "5\n",
            "<class 'numpy.int64'>\n",
            "5\n",
            "<class 'numpy.int64'>\n",
            "5\n",
            "<class 'numpy.int64'>\n",
            "5\n",
            "<class 'numpy.int64'>\n",
            "1\n",
            "<class 'numpy.int64'>\n",
            "1\n",
            "<class 'numpy.int64'>\n",
            "1\n",
            "<class 'numpy.int64'>\n",
            "1\n",
            "<class 'numpy.int64'>\n",
            "1\n",
            "<class 'numpy.int64'>\n",
            "1\n",
            "<class 'numpy.int64'>\n",
            "1\n",
            "<class 'numpy.int64'>\n",
            "1\n",
            "<class 'numpy.int64'>\n",
            "1\n",
            "<class 'numpy.int64'>\n",
            "1\n",
            "<class 'numpy.int64'>\n",
            "1\n",
            "<class 'numpy.int64'>\n",
            "1\n",
            "<class 'numpy.int64'>\n",
            "1\n",
            "<class 'numpy.int64'>\n",
            "1\n",
            "<class 'numpy.int64'>\n",
            "1\n",
            "<class 'numpy.int64'>\n",
            "1\n",
            "<class 'numpy.int64'>\n",
            "6\n",
            "<class 'numpy.int64'>\n",
            "6\n",
            "<class 'numpy.int64'>\n",
            "6\n",
            "<class 'numpy.int64'>\n",
            "6\n",
            "<class 'numpy.int64'>\n",
            "6\n",
            "<class 'numpy.int64'>\n",
            "6\n",
            "<class 'numpy.int64'>\n",
            "6\n",
            "<class 'numpy.int64'>\n",
            "6\n",
            "<class 'numpy.int64'>\n",
            "6\n",
            "<class 'numpy.int64'>\n",
            "6\n",
            "<class 'numpy.int64'>\n",
            "6\n",
            "<class 'numpy.int64'>\n",
            "6\n",
            "<class 'numpy.int64'>\n",
            "6\n",
            "<class 'numpy.int64'>\n",
            "6\n",
            "<class 'numpy.int64'>\n",
            "6\n",
            "<class 'numpy.int64'>\n",
            "6\n",
            "<class 'numpy.int64'>\n",
            "6\n",
            "<class 'numpy.int64'>\n",
            "6\n",
            "<class 'numpy.int64'>\n",
            "6\n",
            "<class 'numpy.int64'>\n",
            "6\n",
            "<class 'numpy.int64'>\n",
            "6\n",
            "<class 'numpy.int64'>\n",
            "6\n",
            "<class 'numpy.int64'>\n",
            "6\n",
            "<class 'numpy.int64'>\n",
            "6\n",
            "<class 'numpy.int64'>\n",
            "6\n",
            "<class 'numpy.int64'>\n",
            "6\n",
            "<class 'numpy.int64'>\n",
            "6\n",
            "<class 'numpy.int64'>\n",
            "6\n",
            "<class 'numpy.int64'>\n",
            "6\n",
            "<class 'numpy.int64'>\n",
            "6\n",
            "<class 'numpy.int64'>\n",
            "6\n",
            "<class 'numpy.int64'>\n",
            "6\n",
            "<class 'numpy.int64'>\n",
            "6\n",
            "<class 'numpy.int64'>\n",
            "6\n",
            "<class 'numpy.int64'>\n",
            "6\n",
            "<class 'numpy.int64'>\n",
            "6\n",
            "<class 'numpy.int64'>\n",
            "6\n",
            "<class 'numpy.int64'>\n",
            "1\n",
            "<class 'numpy.int64'>\n",
            "1\n",
            "<class 'numpy.int64'>\n",
            "1\n",
            "<class 'numpy.int64'>\n",
            "1\n",
            "<class 'numpy.int64'>\n",
            "1\n",
            "<class 'numpy.int64'>\n",
            "1\n",
            "<class 'numpy.int64'>\n",
            "7\n",
            "<class 'numpy.int64'>\n",
            "1\n",
            "<class 'numpy.int64'>\n",
            "1\n",
            "<class 'numpy.int64'>\n",
            "1\n",
            "<class 'numpy.int64'>\n",
            "1\n",
            "<class 'numpy.int64'>\n",
            "1\n",
            "<class 'numpy.int64'>\n",
            "1\n",
            "<class 'numpy.int64'>\n",
            "1\n",
            "<class 'numpy.int64'>\n",
            "7\n",
            "<class 'numpy.int64'>\n",
            "7\n",
            "<class 'numpy.int64'>\n",
            "7\n",
            "<class 'numpy.int64'>\n",
            "7\n",
            "<class 'numpy.int64'>\n",
            "7\n",
            "<class 'numpy.int64'>\n",
            "7\n",
            "<class 'numpy.int64'>\n",
            "7\n",
            "<class 'numpy.int64'>\n",
            "7\n",
            "<class 'numpy.int64'>\n",
            "7\n",
            "<class 'numpy.int64'>\n",
            "7\n",
            "<class 'numpy.int64'>\n",
            "3\n",
            "<class 'numpy.int64'>\n",
            "3\n",
            "<class 'numpy.int64'>\n",
            "3\n",
            "<class 'numpy.int64'>\n",
            "3\n",
            "<class 'numpy.int64'>\n",
            "2\n",
            "<class 'numpy.int64'>\n",
            "2\n",
            "<class 'numpy.int64'>\n",
            "7\n",
            "<class 'numpy.int64'>\n",
            "7\n",
            "<class 'numpy.int64'>\n",
            "7\n",
            "<class 'numpy.int64'>\n",
            "7\n",
            "<class 'numpy.int64'>\n",
            "7\n",
            "<class 'numpy.int64'>\n",
            "7\n",
            "<class 'numpy.int64'>\n",
            "7\n",
            "<class 'numpy.int64'>\n",
            "7\n",
            "<class 'numpy.int64'>\n",
            "7\n",
            "<class 'numpy.int64'>\n",
            "7\n",
            "<class 'numpy.int64'>\n",
            "1\n",
            "<class 'numpy.int64'>\n",
            "1\n",
            "<class 'numpy.int64'>\n",
            "1\n",
            "<class 'numpy.int64'>\n",
            "1\n",
            "<class 'numpy.int64'>\n",
            "1\n",
            "<class 'numpy.int64'>\n",
            "1\n",
            "<class 'numpy.int64'>\n",
            "1\n",
            "<class 'numpy.int64'>\n",
            "1\n",
            "<class 'numpy.int64'>\n",
            "1\n",
            "<class 'numpy.int64'>\n",
            "1\n",
            "<class 'numpy.int64'>\n",
            "1\n",
            "<class 'numpy.int64'>\n",
            "1\n",
            "<class 'numpy.int64'>\n",
            "1\n",
            "<class 'numpy.int64'>\n",
            "1\n",
            "<class 'numpy.int64'>\n",
            "1\n",
            "<class 'numpy.int64'>\n",
            "1\n",
            "<class 'numpy.int64'>\n",
            "1\n",
            "<class 'numpy.int64'>\n",
            "5\n",
            "<class 'numpy.int64'>\n",
            "5\n",
            "<class 'numpy.int64'>\n",
            "7\n",
            "<class 'numpy.int64'>\n",
            "7\n",
            "<class 'numpy.int64'>\n",
            "7\n",
            "<class 'numpy.int64'>\n",
            "5\n",
            "<class 'numpy.int64'>\n",
            "5\n",
            "<class 'numpy.int64'>\n",
            "6\n",
            "<class 'numpy.int64'>\n",
            "6\n",
            "<class 'numpy.int64'>\n",
            "6\n",
            "<class 'numpy.int64'>\n",
            "6\n",
            "<class 'numpy.int64'>\n",
            "5\n",
            "<class 'numpy.int64'>\n",
            "5\n",
            "<class 'numpy.int64'>\n",
            "5\n",
            "<class 'numpy.int64'>\n",
            "5\n",
            "<class 'numpy.int64'>\n",
            "5\n",
            "<class 'numpy.int64'>\n",
            "5\n",
            "<class 'numpy.int64'>\n",
            "5\n",
            "<class 'numpy.int64'>\n",
            "5\n",
            "<class 'numpy.int64'>\n",
            "5\n",
            "<class 'numpy.int64'>\n",
            "5\n",
            "<class 'numpy.int64'>\n",
            "5\n",
            "<class 'numpy.int64'>\n",
            "5\n",
            "<class 'numpy.int64'>\n",
            "8\n",
            "<class 'numpy.int64'>\n",
            "8\n",
            "<class 'numpy.int64'>\n",
            "8\n",
            "<class 'numpy.int64'>\n",
            "8\n",
            "<class 'numpy.int64'>\n",
            "8\n",
            "<class 'numpy.int64'>\n",
            "8\n",
            "<class 'numpy.int64'>\n",
            "8\n",
            "<class 'numpy.int64'>\n",
            "8\n",
            "<class 'numpy.int64'>\n",
            "8\n",
            "<class 'numpy.int64'>\n",
            "8\n",
            "<class 'numpy.int64'>\n",
            "8\n",
            "<class 'numpy.int64'>\n",
            "8\n",
            "<class 'numpy.int64'>\n",
            "8\n",
            "<class 'numpy.int64'>\n",
            "8\n",
            "<class 'numpy.int64'>\n",
            "8\n",
            "<class 'numpy.int64'>\n",
            "1\n",
            "<class 'numpy.int64'>\n",
            "1\n",
            "<class 'numpy.int64'>\n",
            "1\n",
            "<class 'numpy.int64'>\n",
            "1\n",
            "<class 'numpy.int64'>\n",
            "1\n",
            "<class 'numpy.int64'>\n",
            "1\n",
            "<class 'numpy.int64'>\n",
            "1\n",
            "<class 'numpy.int64'>\n",
            "1\n",
            "<class 'numpy.int64'>\n",
            "1\n",
            "<class 'numpy.int64'>\n",
            "1\n",
            "<class 'numpy.int64'>\n",
            "1\n",
            "<class 'numpy.int64'>\n",
            "1\n",
            "<class 'numpy.int64'>\n",
            "1\n",
            "<class 'numpy.int64'>\n",
            "1\n",
            "<class 'numpy.int64'>\n",
            "7\n",
            "<class 'numpy.int64'>\n",
            "7\n",
            "<class 'numpy.int64'>\n",
            "7\n",
            "<class 'numpy.int64'>\n",
            "7\n",
            "<class 'numpy.int64'>\n",
            "7\n",
            "<class 'numpy.int64'>\n",
            "7\n",
            "<class 'numpy.int64'>\n",
            "7\n",
            "<class 'numpy.int64'>\n",
            "5\n",
            "<class 'numpy.int64'>\n",
            "5\n",
            "<class 'numpy.int64'>\n",
            "9\n",
            "<class 'numpy.int64'>\n",
            "9\n",
            "<class 'numpy.int64'>\n",
            "9\n",
            "<class 'numpy.int64'>\n",
            "9\n",
            "<class 'numpy.int64'>\n",
            "9\n",
            "<class 'numpy.int64'>\n",
            "9\n",
            "<class 'numpy.int64'>\n",
            "9\n",
            "<class 'numpy.int64'>\n",
            "9\n",
            "<class 'numpy.int64'>\n",
            "9\n",
            "<class 'numpy.int64'>\n",
            "9\n",
            "<class 'numpy.int64'>\n",
            "9\n",
            "<class 'numpy.int64'>\n",
            "9\n",
            "<class 'numpy.int64'>\n",
            "9\n",
            "<class 'numpy.int64'>\n",
            "9\n",
            "<class 'numpy.int64'>\n",
            "9\n",
            "<class 'numpy.int64'>\n",
            "9\n",
            "<class 'numpy.int64'>\n",
            "9\n",
            "<class 'numpy.int64'>\n",
            "9\n",
            "<class 'numpy.int64'>\n",
            "9\n",
            "<class 'numpy.int64'>\n",
            "9\n",
            "<class 'numpy.int64'>\n",
            "9\n",
            "<class 'numpy.int64'>\n",
            "9\n",
            "<class 'numpy.int64'>\n",
            "9\n",
            "<class 'numpy.int64'>\n",
            "9\n",
            "<class 'numpy.int64'>\n",
            "9\n",
            "<class 'numpy.int64'>\n"
          ]
        },
        {
          "data": {
            "text/plain": [
              "<function destroyAllWindows>"
            ]
          },
          "execution_count": 30,
          "metadata": {},
          "output_type": "execute_result"
        }
      ],
      "source": [
        "#loob on the frames\n",
        "while (cntr < length):\n",
        "  ret,frame = cap.read()\n",
        "  cntr = cntr + 1\n",
        "  if (cntr%2 == 0 ):\n",
        "    #reshape the frame\n",
        "    img = cv2.cvtColor(frame, cv2.COLOR_BGR2GRAY)\n",
        "    img = cv2.resize(img, (28,28), interpolation = cv2.INTER_AREA )\n",
        "    img = tf.keras.utils.normalize(img,axis = 1)\n",
        "    img = reshape_img(np.array(img))\n",
        "    #predict the number\n",
        "    predicition = model.predict(img)\n",
        "    result = np.argmax(predicition)\n",
        "\n",
        "    print(result)\n",
        "    print(type(result))\n",
        "    \n",
        "    x1,y1,w1,h1 = 0,0,35,35\n",
        "    cv2.rectangle(frame, (x1,x1), (x1 + w1, y1 + h1), (255,255,255), -1)\n",
        "    cv2.putText(frame, result.astype(str), (x1 + int(w1/5), y1 + int(h1/1.5)), cv2.FONT_HERSHEY_SIMPLEX, 0.7, (0,0,0) ,2)\n",
        "\n",
        "    cv2.imshow('Digits Recognition ',frame)\n",
        "    cv2.waitKey(2)\n",
        "\n",
        "cap.release()\n",
        "cv2.destroyAllWindows\n"
      ]
    }
  ],
  "metadata": {
    "accelerator": "GPU",
    "colab": {
      "collapsed_sections": [],
      "name": "project_MNIST.ipynb",
      "provenance": []
    },
    "interpreter": {
      "hash": "3f4c40a06b657b2d6ce10ead4079a03f96f0d0308093b06e604c3c7a199e49b4"
    },
    "kernelspec": {
      "display_name": "Python 3.10.3 64-bit",
      "language": "python",
      "name": "python3"
    },
    "language_info": {
      "codemirror_mode": {
        "name": "ipython",
        "version": 3
      },
      "file_extension": ".py",
      "mimetype": "text/x-python",
      "name": "python",
      "nbconvert_exporter": "python",
      "pygments_lexer": "ipython3",
      "version": "3.10.3"
    }
  },
  "nbformat": 4,
  "nbformat_minor": 0
}
